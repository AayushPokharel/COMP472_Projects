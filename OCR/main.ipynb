{
 "cells": [
  {
   "cell_type": "code",
   "execution_count": 16,
   "metadata": {},
   "outputs": [],
   "source": [
    "import cv2\n",
    "import pytesseract\n",
    "import os"
   ]
  },
  {
   "cell_type": "code",
   "execution_count": 17,
   "metadata": {},
   "outputs": [],
   "source": [
    "# Set the path to the Tesseract executable (update this with your path)\n",
    "pytesseract.pytesseract.tesseract_cmd = r\"/usr/bin/tesseract\""
   ]
  },
  {
   "cell_type": "code",
   "execution_count": 18,
   "metadata": {},
   "outputs": [],
   "source": [
    "def read_prescription(image_path):\n",
    "    # Read the image using OpenCV\n",
    "    image = cv2.imread(image_path)\n",
    "\n",
    "    # Convert the image to grayscale\n",
    "    gray = cv2.cvtColor(image, cv2.COLOR_BGR2GRAY)\n",
    "\n",
    "    # Apply thresholding to highlight text\n",
    "    _, thresh = cv2.threshold(gray, 150, 255, cv2.THRESH_BINARY)\n",
    "\n",
    "    # Use pytesseract to perform OCR on the thresholded image\n",
    "    text = pytesseract.image_to_string(thresh)\n",
    "\n",
    "    return text, gray, thresh"
   ]
  },
  {
   "cell_type": "code",
   "execution_count": 19,
   "metadata": {},
   "outputs": [
    {
     "name": "stdout",
     "output_type": "stream",
     "text": [
      "yO\n",
      "B. C. ROY TECHNOLOGY HOSPITAL\n",
      "° |. |. TKHARAGPUR\n",
      "\n",
      "en For Ome be.\n",
      "= sa%oe QO. P. D. TICKET\n",
      "\n",
      "_ Date of visit.../.8 aul due\n",
      "\n",
      "Le UO OU cceseseeetenenee Regn. No. INE C3900 a\n",
      "Name........... B.S ema.\n",
      "\n",
      " \n",
      "\n",
      " \n",
      "\n",
      "A\n",
      "(2 eAorde Oe\n",
      "yp\n",
      "(2) cole! (eS)\n",
      "Looe,\n",
      "oO 0\n",
      "f\n",
      "——\n",
      "3 1 AUG 201\n",
      "dr. Naveen Kumar Gude\n",
      "A Cougin\n",
      "Urelos der |- passoete ©] Pee 1 om\n",
      "S Talw i 1 /% re\n",
      "_ OT? wh aL\n",
      "rem ont eT oe\n",
      "ire *- su “ot ~\n",
      "4c\". udo .@) Com ome\n",
      "\n",
      "Dio IW caw\n",
      "\n",
      "yevet ¥\n",
      "\n",
      "en nets @)\n",
      "_. Oot (oie Oe WOe!S\n",
      "\f\n"
     ]
    }
   ],
   "source": [
    "# Replace 'path/to/your/image.png' with the actual path to your prescription image\n",
    "image_path = os.path.join(\"/SSD_Data/DevFile/AI/OCR/\", \"2_2.jpg\")\n",
    "prescription_text, gray, thress = read_prescription(image_path)\n",
    "\n",
    "gray\n",
    "# Print the extracted text\n",
    "print(prescription_text)"
   ]
  },
  {
   "cell_type": "code",
   "execution_count": null,
   "metadata": {},
   "outputs": [],
   "source": []
  }
 ],
 "metadata": {
  "kernelspec": {
   "display_name": "env",
   "language": "python",
   "name": "python3"
  },
  "language_info": {
   "codemirror_mode": {
    "name": "ipython",
    "version": 3
   },
   "file_extension": ".py",
   "mimetype": "text/x-python",
   "name": "python",
   "nbconvert_exporter": "python",
   "pygments_lexer": "ipython3",
   "version": "3.10.12"
  }
 },
 "nbformat": 4,
 "nbformat_minor": 2
}
